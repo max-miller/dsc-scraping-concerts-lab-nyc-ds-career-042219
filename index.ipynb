{
 "cells": [
  {
   "cell_type": "markdown",
   "metadata": {},
   "source": [
    "# Scraping Concerts - Lab\n",
    "\n",
    "## Introduction\n",
    "\n",
    "Now that you've seen how to scrape a simple website, it's time to again practice those skills on a full-fledged site!\n",
    "In this lab, you'll practice your scraping skills on a music website: https://www.residentadvisor.net.\n",
    "## Objectives\n",
    "\n",
    "You will be able to:\n",
    "* Scrape events from a website\n",
    "* Follow links to those events to retrieve further information\n",
    "* Clean and store scraped data"
   ]
  },
  {
   "cell_type": "markdown",
   "metadata": {},
   "source": [
    "## View the Website\n",
    "\n",
    "For this lab, you'll be scraping the https://www.residentadvisor.net website. Start by navigating to the events page [here](https://www.residentadvisor.net/events) in your browser.\n",
    "\n",
    "<img src=\"images/ra.png\">"
   ]
  },
  {
   "cell_type": "code",
   "execution_count": null,
   "metadata": {},
   "outputs": [],
   "source": [
    "#Load the https://www.residentadvisor.net/events page in your browser."
   ]
  },
  {
   "cell_type": "markdown",
   "metadata": {},
   "source": [
    "## Open the Inspect Element Feature\n",
    "\n",
    "Next, open the inspect element feature from your web browser in order to preview the underlying HTML associated with the page."
   ]
  },
  {
   "cell_type": "code",
   "execution_count": 1,
   "metadata": {},
   "outputs": [],
   "source": [
    "from bs4 import BeautifulSoup\n",
    "import requests"
   ]
  },
  {
   "cell_type": "code",
   "execution_count": 2,
   "metadata": {},
   "outputs": [],
   "source": [
    "html_page = requests.get('https://www.residentadvisor.net/events')\n",
    "soup = BeautifulSoup(html_page.content, 'html.parser')"
   ]
  },
  {
   "cell_type": "code",
   "execution_count": 4,
   "metadata": {},
   "outputs": [
    {
     "data": {
      "text/plain": [
       "[<p class=\"eventDate date\"><a href=\"/events.aspx?ai=48&amp;v=day&amp;mn=5&amp;yr=2019&amp;dy=22\"><span>Wed, 22 May 2019 /</span></a></p>,\n",
       " <p class=\"eventDate date\"><a href=\"/events.aspx?ai=48&amp;v=day&amp;mn=5&amp;yr=2019&amp;dy=24\"><span>Fri, 24 May 2019 /</span></a></p>,\n",
       " <p class=\"eventDate date\"><a href=\"/events.aspx?ai=48&amp;v=day&amp;mn=5&amp;yr=2019&amp;dy=25\"><span>Sat, 25 May 2019 /</span></a></p>,\n",
       " <p class=\"eventDate date\"><a href=\"/events.aspx?ai=48&amp;v=day&amp;mn=5&amp;yr=2019&amp;dy=26\"><span>Sun, 26 May 2019 /</span></a></p>]"
      ]
     },
     "execution_count": 4,
     "metadata": {},
     "output_type": "execute_result"
    }
   ],
   "source": [
    "soup.find('div', id='event-listing').find_all('p', class_='eventDate date')\n"
   ]
  },
  {
   "cell_type": "code",
   "execution_count": 5,
   "metadata": {},
   "outputs": [
    {
     "data": {
      "text/plain": [
       "'MDW NJ Boat Party at Queen of Hearts Liberty Harbor Marina 2019 at Liberty Harbor Marina'"
      ]
     },
     "execution_count": 5,
     "metadata": {},
     "output_type": "execute_result"
    }
   ],
   "source": [
    "soup.find('div', id='event-listing').find_all('article',class_='event-item')[2].find('h1',class_='event-title').text\n"
   ]
  },
  {
   "cell_type": "code",
   "execution_count": 6,
   "metadata": {},
   "outputs": [
    {
     "data": {
      "text/plain": [
       "<div class=\"fl col4\" id=\"event-listing\">\n",
       "<ul class=\"list\" id=\"items\">\n",
       "<li><p class=\"eventDate date\"><a href=\"/events.aspx?ai=48&amp;v=day&amp;mn=5&amp;yr=2019&amp;dy=22\"><span>Wed, 22 May 2019 /</span></a></p></li><li class=\"\"><article class=\"event-item clearfix\" itemscope=\"\" itemtype=\"http://data-vocabulary.org/Event\"><span style=\"display:none;\"><time datetime=\"2019-05-22T00:00\" itemprop=\"startDate\">2019-05-22T00:00</time></span><a href=\"/events/1267843\"><img height=\"76\" src=\"/images/events/flyer/2019/5/us-0518-1267843-list.jpg\" width=\"152\"/></a><div class=\"bbox\"><h1 class=\"event-title\" itemprop=\"summary\"><a href=\"/events/1267843\" itemprop=\"url\" title=\"Event details of Funk the Groove Wednesdays Afterwork Showcase &amp; Party\">Funk the Groove Wednesdays Afterwork Showcase &amp; Party</a> <span>at <a href=\"/club.aspx?id=55862\">Ideal's Restaurant, Bar &amp; Lounge</a></span></h1><div class=\"grey event-lineup\">Dj Hutch, Cassio Ware</div><p class=\"attending\"><span>1</span> Attending</p></div></article></li><li><p class=\"eventDate date\"><a href=\"/events.aspx?ai=48&amp;v=day&amp;mn=5&amp;yr=2019&amp;dy=24\"><span>Fri, 24 May 2019 /</span></a></p></li><li class=\"\"><article class=\"event-item clearfix\" itemscope=\"\" itemtype=\"http://data-vocabulary.org/Event\"><span style=\"display:none;\"><time datetime=\"2019-05-24T00:00\" itemprop=\"startDate\">2019-05-24T00:00</time></span><a href=\"/events/1265515\"><img height=\"76\" src=\"/images/events/flyer/2019/5/us-0524-1265515-list.jpg\" width=\"152\"/></a><div class=\"bbox\"><h1 class=\"event-title\" itemprop=\"summary\"><a href=\"/events/1265515\" itemprop=\"url\" title=\"Event details of Shelter 💣 ~ an Industrial Techno , EBM , and Dark Electro Experience\">Shelter 💣 ~ an Industrial Techno , EBM , and Dark Electro Experience</a> <span>at <a href=\"/club.aspx?id=50536\">QXT's</a></span></h1><div class=\"grey event-lineup\">Caelestka, wintermute</div><p class=\"attending\"><span>3</span> Attending</p></div></article></li><li><p class=\"eventDate date\"><a href=\"/events.aspx?ai=48&amp;v=day&amp;mn=5&amp;yr=2019&amp;dy=25\"><span>Sat, 25 May 2019 /</span></a></p></li><li class=\"\"><article class=\"event-item clearfix tickets-bkg-logo\" itemscope=\"\" itemtype=\"http://data-vocabulary.org/Event\"><a href=\"/events/1259847#tickets\"><img class=\"nohide\" src=\"https://residentadvisor.net/images/ra-tix.png\" style=\"height: 23px; width: 40px; right: 0px; position: absolute; top: 1px;\"/></a><span style=\"display:none;\"><time datetime=\"2019-05-25T00:00\" itemprop=\"startDate\">2019-05-25T00:00</time></span><a href=\"/events/1259847\"><img height=\"76\" src=\"/images/events/flyer/2019/5/us-0525-1259847-list.jpg\" width=\"152\"/></a><div class=\"bbox\"><h1 class=\"event-title\" itemprop=\"summary\"><a href=\"/events/1259847\" itemprop=\"url\" title=\"Event details of MDW NJ Boat Party at Queen of Hearts Liberty Harbor Marina 2019\">MDW NJ Boat Party at Queen of Hearts Liberty Harbor Marina 2019</a> <span>at <a href=\"/club.aspx?id=157602\">Liberty Harbor Marina</a></span></h1><div class=\"grey event-lineup\">nyc top djs</div><p class=\"attending\"><span>3</span> Attending</p></div></article></li><li><p class=\"eventDate date\"><a href=\"/events.aspx?ai=48&amp;v=day&amp;mn=5&amp;yr=2019&amp;dy=26\"><span>Sun, 26 May 2019 /</span></a></p></li><li class=\"\"><article class=\"event-item clearfix tickets-bkg-logo\" itemscope=\"\" itemtype=\"http://data-vocabulary.org/Event\"><a href=\"/events/1255601#tickets\"><img class=\"nohide\" src=\"https://residentadvisor.net/images/ra-tix.png\" style=\"height: 23px; width: 40px; right: 0px; position: absolute; top: 1px;\"/></a><span style=\"display:none;\"><time datetime=\"2019-05-26T00:00\" itemprop=\"startDate\">2019-05-26T00:00</time></span><a href=\"/events/1255601\"><img height=\"76\" src=\"/images/events/flyer/2019/5/us-0526-1255601-list.jpg\" width=\"152\"/></a><div class=\"bbox\"><h1 class=\"event-title\" itemprop=\"summary\"><a href=\"/events/1255601\" itemprop=\"url\" title=\"Event details of Boris MDW Sunday Daylife Harrahs Pool Party Atlantic City 2019\">Boris MDW Sunday Daylife Harrahs Pool Party Atlantic City 2019</a> <span>at <a href=\"/club.aspx?id=11727\">The Pool at Harrah's Resort</a></span></h1><div class=\"grey event-lineup\">dj boris</div><p class=\"attending\"><span>2</span> Attending</p></div></article></li><li class=\"\"><article class=\"event-item clearfix tickets-bkg-logo\" itemscope=\"\" itemtype=\"http://data-vocabulary.org/Event\"><a href=\"/events/1256707#tickets\"><img class=\"nohide\" src=\"https://residentadvisor.net/images/ra-tix.png\" style=\"height: 23px; width: 40px; right: 0px; position: absolute; top: 1px;\"/></a><span style=\"display:none;\"><time datetime=\"2019-05-26T00:00\" itemprop=\"startDate\">2019-05-26T00:00</time></span><a href=\"/events/1256707\"><img height=\"76\" src=\"/images/events/flyer/2019/5/us-0526-1256707-list.jpg\" width=\"152\"/></a><div class=\"bbox\"><h1 class=\"event-title\" itemprop=\"summary\"><a href=\"/events/1256707\" itemprop=\"url\" title=\"Event details of Dj Camilo &amp; Alex Sensation MDW 2019 Harrahs Pool Party in Atlantic City\">Dj Camilo &amp; Alex Sensation MDW 2019 Harrahs Pool Party in Atlantic City</a> <span>at <a href=\"/club.aspx?id=11727\">The Pool at Harrah's Resort</a></span></h1><div class=\"grey event-lineup\">dj camilo, alex sensation</div><p class=\"attending\"><span>2</span> Attending</p></div></article></li><li class=\"\"><article class=\"event-item clearfix tickets-bkg-logo\" itemscope=\"\" itemtype=\"http://data-vocabulary.org/Event\"><a href=\"/events/1263778#tickets\"><img class=\"nohide\" src=\"https://residentadvisor.net/images/ra-tix.png\" style=\"height: 23px; width: 40px; right: 0px; position: absolute; top: 1px;\"/></a><span style=\"display:none;\"><time datetime=\"2019-05-26T00:00\" itemprop=\"startDate\">2019-05-26T00:00</time></span><a href=\"/events/1263778\"><img height=\"76\" src=\"/images/listing-default.gif\" width=\"152\"/></a><div class=\"bbox\"><h1 class=\"event-title\" itemprop=\"summary\"><a href=\"/events/1263778\" itemprop=\"url\" title=\"Event details of TBA\">TBA</a> <span>at <a href=\"/club.aspx?id=168580\">Porta</a></span></h1><div class=\"grey event-lineup\"></div><p class=\"attending\"><span>1</span> Attending</p></div></article></li><li class=\"\"><article class=\"event-item clearfix tickets-bkg-logo\" itemscope=\"\" itemtype=\"http://data-vocabulary.org/Event\"><a href=\"/events/1252390#tickets\"><img class=\"nohide\" src=\"https://residentadvisor.net/images/ra-tix.png\" style=\"height: 23px; width: 40px; right: 0px; position: absolute; top: 1px;\"/></a><span style=\"display:none;\"><time datetime=\"2019-05-26T00:00\" itemprop=\"startDate\">2019-05-26T00:00</time></span><a href=\"/events/1252390\"><img height=\"76\" src=\"/images/events/flyer/2019/5/us-0526-1252390-list.jpg\" width=\"152\"/></a><div class=\"bbox\"><h1 class=\"event-title\" itemprop=\"summary\"><a href=\"/events/1252390\" itemprop=\"url\" title=\"Event details of Memorial Day Weekend Atlantic City Harrahs Pool Party 2019\">Memorial Day Weekend Atlantic City Harrahs Pool Party 2019</a> <span>at <a href=\"/club.aspx?id=31342\">Harrah's Resort Casino &amp; Pool</a></span></h1><div class=\"grey event-lineup\">nyc top djs</div><p class=\"attending\"><span>1</span> Attending</p></div></article></li><li class=\"\"><article class=\"event-item clearfix small-item\" itemscope=\"\" itemtype=\"http://data-vocabulary.org/Event\"><span style=\"display:none;\"><time datetime=\"2019-05-26T00:00\" itemprop=\"startDate\">2019-05-26T00:00</time></span><div class=\"bbox\"><h1 class=\"event-title\" itemprop=\"summary\"><a href=\"/events/1260325\" itemprop=\"url\" title=\"Event details of Shorelife Summer Kickoff: Chus and Ceballos, Roger Sanchez\">Shorelife Summer Kickoff: Chus and Ceballos, Roger Sanchez</a> <span>at <a href=\"/club.aspx?id=81580\">Headliner</a></span></h1></div></article></li><li class=\"\"><article class=\"event-item clearfix small-item\" itemscope=\"\" itemtype=\"http://data-vocabulary.org/Event\"><span style=\"display:none;\"><time datetime=\"2019-05-26T00:00\" itemprop=\"startDate\">2019-05-26T00:00</time></span><div class=\"bbox\"><h1 class=\"event-title\" itemprop=\"summary\"><a href=\"/events/1253637\" itemprop=\"url\" title=\"Event details of Memorial Day Weekend Atlantic City Harrahs Resort Pool Party 2019\">Memorial Day Weekend Atlantic City Harrahs Resort Pool Party 2019</a> <span>at <a href=\"/club.aspx?id=11727\">The Pool at Harrah's Resort</a></span></h1></div></article></li><li><div class=\"but myra mt16\" style=\"width: 152px;\"><a href=\"/submit-event.aspx?ai=48\">Submit event</a></div></li>\n",
       "</ul>\n",
       "</div>"
      ]
     },
     "execution_count": 6,
     "metadata": {},
     "output_type": "execute_result"
    }
   ],
   "source": [
    "soup.find('div', id='event-listing').find_all('article',class_='event-item')"
   ]
  },
  {
   "cell_type": "markdown",
   "metadata": {},
   "source": [
    "## Write a Function to Scrape all of the Events on the Given Page Events Page\n",
    "\n",
    "The function should return a Pandas DataFrame with columns for the Event_Name, Venue, Event_Date and Number_of_Attendees."
   ]
  },
  {
   "cell_type": "code",
   "execution_count": null,
   "metadata": {},
   "outputs": [],
   "source": [
    "def scrape_events(events_page_url):\n",
    "    #Your code here\n",
    "    df.columns = [\"Event_Name\", \"Venue\", \"Event_Date\", \"Number_of_Attendees\"]\n",
    "    return df"
   ]
  },
  {
   "cell_type": "markdown",
   "metadata": {},
   "source": [
    "## Write a Function to Retrieve the URL for the Next Page"
   ]
  },
  {
   "cell_type": "code",
   "execution_count": null,
   "metadata": {},
   "outputs": [],
   "source": [
    "def next_page(url):\n",
    "    #Your code here\n",
    "    return next_page_url"
   ]
  },
  {
   "cell_type": "markdown",
   "metadata": {},
   "source": [
    "## Scrape the Next 1000 Events for Your Area\n",
    "\n",
    "Display the data sorted by the number of attendees. If there is a tie for the number attending, sort by event date."
   ]
  },
  {
   "cell_type": "code",
   "execution_count": null,
   "metadata": {},
   "outputs": [],
   "source": [
    "#Your code here"
   ]
  },
  {
   "cell_type": "markdown",
   "metadata": {},
   "source": [
    "## Summary \n",
    "\n",
    "Congratulations! In this lab, you successfully scraped a website for concert event information!"
   ]
  }
 ],
 "metadata": {
  "kernelspec": {
   "display_name": "Python 3",
   "language": "python",
   "name": "python3"
  },
  "language_info": {
   "codemirror_mode": {
    "name": "ipython",
    "version": 3
   },
   "file_extension": ".py",
   "mimetype": "text/x-python",
   "name": "python",
   "nbconvert_exporter": "python",
   "pygments_lexer": "ipython3",
   "version": "3.6.6"
  }
 },
 "nbformat": 4,
 "nbformat_minor": 2
}
